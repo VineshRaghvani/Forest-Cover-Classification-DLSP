{
 "cells": [
  {
   "cell_type": "markdown",
   "metadata": {},
   "source": [
    "# Forest Cover Classification\n",
    "\n",
    "### **By Vinesh Raghvani**\n",
    "\n",
    "In this project, I will be using deep learning to forecast forest cover type (the most prevalent form of tree cover) using just cartographic data. The actual forest cover type for a specific 30 × 30 meter cell was identified using US Forest Service (USFS) Region 2 Resource Information System data. The cover types are as follows:\n",
    "\n",
    "1. Spruce/Fir\n",
    "1. Lodgepole Pine\n",
    "1. Ponderosa Pine\n",
    "1. Cottonwood/Willow\n",
    "1. Aspen\n",
    "1. Douglas-fir\n",
    "1. Krummholz"
   ]
  },
  {
   "cell_type": "markdown",
   "metadata": {},
   "source": [
    "## Importing Libraries"
   ]
  },
  {
   "cell_type": "code",
   "execution_count": 1,
   "metadata": {},
   "outputs": [],
   "source": [
    "import pandas as pd\n",
    "import numpy as np\n",
    "import os\n",
    "\n",
    "from sklearn.preprocessing import StandardScaler\n",
    "from sklearn.model_selection import train_test_split\n",
    "import tensorflow as tf\n",
    "from tensorflow import keras\n",
    "from tensorflow.keras import layers\n",
    "import matplotlib.pyplot as plt\n",
    "import seaborn as sns\n",
    "from tensorflow.keras.callbacks import EarlyStopping\n",
    "from sklearn.metrics import confusion_matrix\n",
    "from sklearn.metrics import classification_report"
   ]
  },
  {
   "cell_type": "code",
   "execution_count": 2,
   "metadata": {},
   "outputs": [],
   "source": [
    "# Going to turn off the GPU usage for tensorflow\n",
    "os.environ['CUDA_VISIBLE_DEVICES'] = '-1'\n",
    "os.environ['TF_CPP_MIN_LOG_LEVEL'] = '2'"
   ]
  },
  {
   "cell_type": "markdown",
   "metadata": {},
   "source": [
    "## Defining a function to sort and prepare the data for usage "
   ]
  },
  {
   "cell_type": "code",
   "execution_count": 3,
   "metadata": {},
   "outputs": [],
   "source": [
    "def prep_data(raw_df):\n",
    "    \"\"\"\n",
    "    Going to process the data for ML/DL algorithms.\n",
    "    - Separate features and target variables\n",
    "    - Divide into training and testing dataset\n",
    "    - Normalize numerical data\n",
    "\n",
    "    Parameters: 'raw_df' - It is a CSV file that contains the data needed\n",
    "    Output: X_train, X_test, Y_train, Y_test\n",
    "    \"\"\"\n",
    "\n",
    "    data = raw_df.values\n",
    "    features, Y = data[:, :-1], data[:, -1]\n",
    "\n",
    "    # Dividing into training and testing set\n",
    "    features_train, features_test, Y_train, Y_test = train_test_split(features, Y, test_size=0.20, random_state=42, stratify=Y)\n",
    "\n",
    "    # Normalize Data\n",
    "    normalizer = StandardScaler()\n",
    "    X_train = normalizer.fit_transform(features_train)\n",
    "    X_test = normalizer.fit_transform(features_test)\n",
    "\n",
    "    return X_test, X_train, Y_train, Y_test"
   ]
  },
  {
   "cell_type": "markdown",
   "metadata": {},
   "source": [
    "## Defining a Build Model function "
   ]
  },
  {
   "cell_type": "code",
   "execution_count": 4,
   "metadata": {},
   "outputs": [],
   "source": [
    "def create_neural_network(input_features):\n",
    "    \"\"\"\n",
    "    Construct and compile a neural network model.\n",
    "\n",
    "    Parameters: 'input_features' - Number of input features\n",
    "    output: Compiled neural network model.\n",
    "    \"\"\"\n",
    "    model = keras.Sequential(name='Neural_Network_Classifier')\n",
    "    model.add(layers.Dense(units=64, input_shape=(input_features,), activation='relu', name='Input_Layer'))\n",
    "    #model.add(layers.Dropout(rate=0.3, name='Dropout_1'))\n",
    "    model.add(layers.Dense(units=32, activation='relu', name='Hidden_Layer_1'))\n",
    "    #model.add(layers.Dropout(rate=0.3, name='Dropout_2'))\n",
    "    model.add(layers.Dense(units=8, activation='softmax', name='Output_Layer'))\n",
    "    model.compile(optimizer=keras.optimizers.Adam(), loss='sparse_categorical_crossentropy', metrics=['accuracy'], name='Model_Compilation')\n",
    "    return model\n"
   ]
  }
 ],
 "metadata": {
  "kernelspec": {
   "display_name": "Python 3 (ipykernel)",
   "language": "python",
   "name": "python3"
  },
  "language_info": {
   "codemirror_mode": {
    "name": "ipython",
    "version": 3
   },
   "file_extension": ".py",
   "mimetype": "text/x-python",
   "name": "python",
   "nbconvert_exporter": "python",
   "pygments_lexer": "ipython3",
   "version": "3.12.2"
  }
 },
 "nbformat": 4,
 "nbformat_minor": 4
}
