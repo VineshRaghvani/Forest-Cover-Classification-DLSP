{
 "cells": [
  {
   "cell_type": "markdown",
   "metadata": {},
   "source": [
    "# Forest Cover Classification\n",
    "\n",
    "### **By Vinesh Raghvani**\n",
    "\n",
    "In this project, I will be using deep learning to forecast forest cover type (the most prevalent form of tree cover) using just cartographic data. The actual forest cover type for a specific 30 × 30 meter cell was identified using US Forest Service (USFS) Region 2 Resource Information System data. The cover types are as follows:\n",
    "\n",
    "1. Spruce/Fir\n",
    "1. Lodgepole Pine\n",
    "1. Ponderosa Pine\n",
    "1. Cottonwood/Willow\n",
    "1. Aspen\n",
    "1. Douglas-fir\n",
    "1. Krummholz"
   ]
  },
  {
   "cell_type": "markdown",
   "metadata": {},
   "source": [
    "## Importing Libraries"
   ]
  },
  {
   "cell_type": "code",
   "execution_count": 1,
   "metadata": {},
   "outputs": [],
   "source": [
    "import pandas as pd\n",
    "import numpy as np\n",
    "import os\n",
    "\n",
    "from sklearn.preprocessing import StandardScaler\n",
    "from sklearn.model_selection import train_test_split\n",
    "import tensorflow as tf\n",
    "from tensorflow import keras\n",
    "from tensorflow.keras import layers\n",
    "import matplotlib.pyplot as plt\n",
    "import seaborn as sns\n",
    "from tensorflow.keras.callbacks import EarlyStopping\n",
    "from sklearn.metrics import confusion_matrix\n",
    "from sklearn.metrics import classification_report"
   ]
  },
  {
   "cell_type": "code",
   "execution_count": 2,
   "metadata": {},
   "outputs": [],
   "source": [
    "# Going to turn off the GPU usage for tensorflow\n",
    "os.environ['CUDA_VISIBLE_DEVICES'] = '-1'\n",
    "os.environ['TF_CPP_MIN_LOG_LEVEL'] = '2'"
   ]
  },
  {
   "cell_type": "markdown",
   "metadata": {},
   "source": [
    "## Defining a function to sort and prepare the data for usage "
   ]
  },
  {
   "cell_type": "code",
   "execution_count": 3,
   "metadata": {},
   "outputs": [],
   "source": [
    "def prep_data(raw_df):\n",
    "    \"\"\"\n",
    "    Going to process the data for ML/DL algorithms.\n",
    "    - Separate features and target variables\n",
    "    - Divide into training and testing dataset\n",
    "    - Normalize numerical data\n",
    "\n",
    "    Parameters: 'raw_df' - It is a CSV file that contains the data needed\n",
    "    Output: X_train, X_test, Y_train, Y_test\n",
    "    \"\"\"\n",
    "\n",
    "    data = raw_df.values\n",
    "    features, Y = data[:, :-1], data[:, -1]\n",
    "\n",
    "    # Dividing into training and testing set\n",
    "    features_train, features_test, Y_train, Y_test = train_test_split(features, Y, test_size=0.20, random_state=42, stratify=Y)\n",
    "\n",
    "    # Normalize Data\n",
    "    normalizer = StandardScaler()\n",
    "    X_train = normalizer.fit_transform(features_train)\n",
    "    X_test = normalizer.fit_transform(features_test)\n",
    "\n",
    "    return X_test, X_train, Y_train, Y_test"
   ]
  },
  {
   "cell_type": "markdown",
   "metadata": {},
   "source": [
    "## Defining a Build Model function "
   ]
  },
  {
   "cell_type": "code",
   "execution_count": 4,
   "metadata": {},
   "outputs": [],
   "source": [
    "def create_neural_network(input_features):\n",
    "    \"\"\"\n",
    "    Construct and compile a neural network model.\n",
    "\n",
    "    Parameters: 'input_features' - Number of input features\n",
    "    Output: Compiled neural network model.\n",
    "    \"\"\"\n",
    "    model = keras.Sequential(name='Neural_Network_Classifier')\n",
    "    model.add(layers.Dense(units=64, input_shape=(input_features,), activation='relu', name='Input_Layer'))\n",
    "    #model.add(layers.Dropout(rate=0.3, name='Dropout_1'))\n",
    "    model.add(layers.Dense(units=32, activation='relu', name='Hidden_Layer_1'))\n",
    "    #model.add(layers.Dropout(rate=0.3, name='Dropout_2'))\n",
    "    model.add(layers.Dense(units=8, activation='softmax', name='Output_Layer'))\n",
    "    model.compile(optimizer=keras.optimizers.Adam(), loss='sparse_categorical_crossentropy', metrics=['accuracy'], name='Model_Compilation')\n",
    "    return model\n"
   ]
  },
  {
   "cell_type": "markdown",
   "metadata": {},
   "source": [
    "## Defining a Confusion Matrix and Heatmap function"
   ]
  },
  {
   "cell_type": "code",
   "execution_count": 5,
   "metadata": {},
   "outputs": [],
   "source": [
    "def generate_confusion_heatmap(categories, Y_pred, Y_test):\n",
    "    \"\"\"\n",
    "    Generate and save a heatmap visualization of the Confusion Matrix.\n",
    "\n",
    "    Parameters: categories, Y_pred, Y_test\n",
    "    Output: a PNG file of the generated heatmap.\n",
    "    \"\"\"\n",
    "    confusion_mat = confusion_matrix(Y_test, Y_pred)\n",
    "    plt.figure(figsize=(15, 15))\n",
    "    confusion_heatmap = sns.heatmap(confusion_mat, fmt='g', cmap='Blues', annot=True)\n",
    "    plt.xlabel('Predicted Labels')\n",
    "    plt.ylabel('Actual Labels')\n",
    "    plt.title('Heatmap of Confusion Matrix')\n",
    "    plt.xticks(ticks=np.arange(len(categories)), labels=categories, rotation=45)\n",
    "    plt.yticks(ticks=np.arange(len(categories)), labels=categories, rotation=45)\n",
    "    # Save the generated heatmap to file\n",
    "    confusion_heatmapfig = confusion_heatmap.get_figure()\n",
    "    confusion_heatmapfig.savefig('heatmap_confusion_matrix.png')\n"
   ]
  },
  {
   "cell_type": "markdown",
   "metadata": {},
   "source": [
    "## Defining a funtion to check the performance of the Model"
   ]
  },
  {
   "cell_type": "code",
   "execution_count": 6,
   "metadata": {},
   "outputs": [],
   "source": [
    "def visualize_training_performance(training_history, metric):\n",
    "    \"\"\"\n",
    "    Visualize the performance of the model across epochs for a given metric.\n",
    "    \"\"\"\n",
    "    metrics = training_history.history\n",
    "    epochs = range(1, len(metrics['accuracy']) + 1)\n",
    "\n",
    "    if metric == 'accuracy':\n",
    "        plt.figure(figsize=(10, 6))\n",
    "        plt.plot(epochs, metrics['accuracy'], 'r', label='Training Accuracy')\n",
    "        plt.plot(epochs, metrics['val_accuracy'], 'b', label='Validation Accuracy')\n",
    "        plt.title('Training and Validation Accuracy over Epochs')\n",
    "        plt.xlabel('Epochs')\n",
    "        plt.ylabel('Accuracy')\n",
    "        plt.legend()\n",
    "        plt.show()\n",
    "    elif metric == 'loss':\n",
    "        plt.figure(figsize=(10, 6))\n",
    "        plt.plot(epochs, metrics['loss'], 'r', label='Training Loss')\n",
    "        plt.plot(epochs, metrics['val_loss'], 'b', label='Validation Loss')\n",
    "        plt.title('Training and Validation Loss over Epochs')\n",
    "        plt.xlabel('Epochs')\n",
    "        plt.ylabel('Loss')\n",
    "        plt.legend()\n",
    "        plt.show()\n"
   ]
  },
  {
   "cell_type": "markdown",
   "metadata": {},
   "source": [
    "## Defining a main() function below which will prepare the dataset, builds the model, evaluates the model and gives predictions. Then we will plot the performance metrics."
   ]
  },
  {
   "cell_type": "code",
   "execution_count": null,
   "metadata": {},
   "outputs": [],
   "source": [
    "def main():\n",
    "    file = 'cover_data.csv'\n",
    "    raw_df = pd.read_csv(file)\n",
    "\n",
    "    cols = raw_df.columns.tolist()\n",
    "    features, label = cols[:-1], cols[-1]\n",
    "    X_train, X_test, Y_train, Y_test = prep_data(raw_df)\n",
    "\n",
    "    # Building the DL/ML Model\n",
    "    input_features = len(features)\n",
    "    classifier = create_neural_network(input_features)\n",
    "\n",
    "    print('Summary Report of Keras Classifier: ')\n",
    "    classifier.summary()\n",
    "\n",
    "    num_epochs = 100\n",
    "    batch_size = 1024\n",
    "    earlystop_callback = EarlyStopping(monitor='val_accuracy', min_delta=0.0001, patience=3)\n",
    "    training_history = classifier.fit(X_train,\n",
    "                                      Y_train,\n",
    "                                      epochs=num_epochs,\n",
    "                                      batch_size=batch_size,\n",
    "                                      callbacks=[earlystop_callback],\n",
    "                                      validation_split=0.1,\n",
    "                                      verbose=1)\n",
    "    \n",
    "    visualize_training_performance(training_history, 'accuracy')\n",
    "    visualize_training_performance(training_history, 'loss')\n",
    "\n",
    "    score = classifier.evaluate(X_test, Y_test, verbose=0)\n",
    "    print(f'Test Loss: {score[0]}')\n",
    "    print(f'Test Accuracy: {score[1]}')\n",
    "\n",
    "    Y_pred = classifier.predict(X_test)\n",
    "\n",
    "    #Converting the prediction values to discrete values\n",
    "    Y_pred = np.argmax(Y_pred, axis=1)\n",
    "    categories = ['Spruce/Fir', 'Lodgepole Pine', 'Ponderosa Pine',\n",
    "                  'Cottonwood/Willow', 'Aspen', 'Douglas-fir', 'Krummholz']\n",
    "    print(classification_report(Y_test, Y_pred, target_names=categories))\n",
    "    generate_confusion_heatmap(categories, Y_pred, Y_test)"
   ]
  }
 ],
 "metadata": {
  "kernelspec": {
   "display_name": "Python 3 (ipykernel)",
   "language": "python",
   "name": "python3"
  },
  "language_info": {
   "codemirror_mode": {
    "name": "ipython",
    "version": 3
   },
   "file_extension": ".py",
   "mimetype": "text/x-python",
   "name": "python",
   "nbconvert_exporter": "python",
   "pygments_lexer": "ipython3",
   "version": "3.12.2"
  }
 },
 "nbformat": 4,
 "nbformat_minor": 4
}
